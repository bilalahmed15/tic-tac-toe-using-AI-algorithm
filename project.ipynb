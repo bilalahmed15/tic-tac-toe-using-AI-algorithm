{
 "cells": [
  {
   "cell_type": "code",
   "execution_count": 29,
   "metadata": {},
   "outputs": [],
   "source": [
    "from os import system\n",
    "import numpy as np\n",
    "import time\n",
    "import random\n",
    "from math import inf as infinity"
   ]
  },
  {
   "cell_type": "code",
   "execution_count": 30,
   "metadata": {},
   "outputs": [
    {
     "name": "stdout",
     "output_type": "stream",
     "text": [
      "enter number of rows:3\n",
      "enter number of column:3\n"
     ]
    }
   ],
   "source": [
    "ai='X'\n",
    "human='O'\n",
    "a=int(input(\"enter number of rows:\"))\n",
    "b=int(input(\"enter number of column:\"))\n",
    "rows, cols = (a, b) \n",
    "arr =np.array([[\"-\"]*cols]*rows )"
   ]
  },
  {
   "cell_type": "code",
   "execution_count": 31,
   "metadata": {},
   "outputs": [],
   "source": [
    "def print_board(row,col,board):\n",
    "    tempboard = np.array([[\"-\"]*col]*row )\n",
    "    if board.shape == (row*col,):        \n",
    "        for x in range(row):\n",
    "            for y in range(col):\n",
    "                tempboard[x][y] = board[y + x*col]\n",
    "        \n",
    "    for i in range(0,row):\n",
    "        for j in range(0,col):\n",
    "            print(tempboard[i][j],end=\"\"),\n",
    "            if j!=(col-1):\n",
    "                print(\" \",\"|\",\" \",end=\"\")\n",
    "            #return arr\n",
    "        print (\"\")"
   ]
  },
  {
   "cell_type": "code",
   "execution_count": 32,
   "metadata": {},
   "outputs": [
    {
     "name": "stdout",
     "output_type": "stream",
     "text": [
      "-  |  -  |  -\n",
      "-  |  -  |  -\n",
      "-  |  -  |  -\n"
     ]
    }
   ],
   "source": [
    "print_board(a,b,arr)"
   ]
  },
  {
   "cell_type": "code",
   "execution_count": 33,
   "metadata": {},
   "outputs": [],
   "source": [
    "arr1=arr.flatten()"
   ]
  },
  {
   "cell_type": "code",
   "execution_count": 34,
   "metadata": {},
   "outputs": [
    {
     "name": "stdout",
     "output_type": "stream",
     "text": [
      "<class 'numpy.ndarray'>\n"
     ]
    }
   ],
   "source": [
    "print(type(arr1))"
   ]
  },
  {
   "cell_type": "code",
   "execution_count": 35,
   "metadata": {},
   "outputs": [],
   "source": [
    "def win_cond(state,player):\n",
    "    win=[\n",
    "        [state[0],state[1],state[2]],\n",
    "        [state[3],state[4],state[5]],\n",
    "        [state[6],state[7],state[8]],\n",
    "        [state[0],state[3],state[6]],\n",
    "        [state[1],state[4],state[7]],\n",
    "        [state[2],state[5],state[8]],\n",
    "        [state[0],state[4],state[8]],\n",
    "        [state[2],state[4],state[6]],\n",
    "    ]\n",
    "    if [player,player,player] in win:\n",
    "        return True\n",
    "    else:\n",
    "        return False\n",
    "    "
   ]
  },
  {
   "cell_type": "code",
   "execution_count": 36,
   "metadata": {},
   "outputs": [],
   "source": [
    "def vacant(board):\n",
    "    newarr=[]\n",
    "    for i,j in enumerate(board):\n",
    "        if j==\"-\":\n",
    "            newarr.append(i)\n",
    "    return newarr"
   ]
  },
  {
   "cell_type": "code",
   "execution_count": 37,
   "metadata": {},
   "outputs": [],
   "source": [
    "def evaluate(state):\n",
    "    if win_cond(state,\"O\"):\n",
    "        result=+1\n",
    "    elif win_cond(state,\"X\"):\n",
    "        result=-1\n",
    "    else:\n",
    "        result=0"
   ]
  },
  {
   "cell_type": "code",
   "execution_count": 38,
   "metadata": {},
   "outputs": [],
   "source": [
    "def human_player(board):\n",
    "    #possibleMoves = [x for x, letter in enumerate(board) if letter == ' ' and x != 0] \n",
    "    space=len(vacant(board))\n",
    "    if space==0:\n",
    "        print(\"game over\")\n",
    "        return 0\n",
    "    move=-1\n",
    "    print(\"Human turn\")\n",
    "    move=int(input(\"enter the position:\"))\n",
    "    if move>-1 and move<a*b:\n",
    "        if board[move]==\"-\":\n",
    "            #print(\"bbbb\")\n",
    "            board[move]=human\n",
    "            print_board(a,b,board)\n",
    "            return\n",
    "        else:\n",
    "            print(\"space is not free\")\n",
    "            move=-1\n",
    "            \n",
    "            time.sleep(1)"
   ]
  },
  {
   "cell_type": "code",
   "execution_count": 39,
   "metadata": {},
   "outputs": [],
   "source": [
    "def minmax(board,depth, isMax):\n",
    "    if isMax:\n",
    "        score=-infinity\n",
    "        for i in range(a*b):\n",
    "            if board[i]=='-':\n",
    "                board[i]=ai\n",
    "                scr=minmax(board,depth+1,False)\n",
    "                board[i]='-'\n",
    "                score=max(scr,score)\n",
    "        return score\n",
    "    else:\n",
    "        score=infinity\n",
    "        for i in range(a*b):\n",
    "            if board[i]=='-':\n",
    "                board[i]=human\n",
    "                scr=minmax(board,depth-1,True)\n",
    "                board[i]='-'\n",
    "                score=min(scr,score)\n",
    "        return score"
   ]
  },
  {
   "cell_type": "code",
   "execution_count": 40,
   "metadata": {},
   "outputs": [],
   "source": [
    "def ai_move(board):   \n",
    "    isempty=True\n",
    "    score=-infinity\n",
    "    bestmove=0\n",
    "    for i in range(0,(a*b)-1):\n",
    "        if board[i]!='-':\n",
    "            isempty=False\n",
    "    if isempty==True:\n",
    "        bestmove=random.randint(0,(a*b)-1)\n",
    "    else:\n",
    "        for i in range(0,(a*b)-1):\n",
    "            if(board[i]=='-'):\n",
    "                board[i]=ai\n",
    "                scr=minmax(board,0,False)\n",
    "                board[i]='-'\n",
    "                if scr>score:\n",
    "                    score=scr\n",
    "                    bestmove=i\n",
    "    board[bestmove]=ai\n",
    "    #print(bestmove)\n",
    "    #currentPlayer = human"
   ]
  },
  {
   "cell_type": "code",
   "execution_count": 41,
   "metadata": {},
   "outputs": [
    {
     "name": "stdout",
     "output_type": "stream",
     "text": [
      "-------------\n",
      "-  |  -  |  -\n",
      "-  |  -  |  -\n",
      "-  |  X  |  -\n",
      "Human turn\n",
      "enter the position:5\n",
      "-  |  -  |  -\n",
      "-  |  -  |  O\n",
      "-  |  X  |  -\n",
      "-------------\n",
      "X  |  -  |  -\n",
      "-  |  -  |  O\n",
      "-  |  X  |  -\n",
      "Human turn\n",
      "enter the position:1\n",
      "X  |  O  |  -\n",
      "-  |  -  |  O\n",
      "-  |  X  |  -\n",
      "-------------\n",
      "X  |  O  |  X\n",
      "-  |  -  |  O\n",
      "-  |  X  |  -\n",
      "Human turn\n",
      "enter the position:3\n",
      "X  |  O  |  X\n",
      "O  |  -  |  O\n",
      "-  |  X  |  -\n",
      "-------------\n",
      "X  |  O  |  X\n",
      "O  |  X  |  O\n",
      "-  |  X  |  -\n",
      "Human turn\n",
      "enter the position:8\n",
      "X  |  O  |  X\n",
      "O  |  X  |  O\n",
      "-  |  X  |  O\n",
      "-------------\n",
      "X  |  O  |  X\n",
      "O  |  X  |  O\n",
      "X  |  X  |  O\n",
      "ai winner\n"
     ]
    }
   ],
   "source": [
    "space=len(vacant(arr1))\n",
    "\n",
    "while space!=0:\n",
    "    \n",
    "        \n",
    "    space=len(vacant(arr1))\n",
    "    \n",
    "    print(\"-------------\")\n",
    "    ai_move(arr1)\n",
    "   \n",
    "    \n",
    "    print_board(a,b,arr1)\n",
    "    if win_cond(arr1,'X'):\n",
    "        print(\"ai winner\")\n",
    "        break\n",
    "    human_player(arr1)\n",
    "    if win_cond(arr1,'O'):\n",
    "        print(\"Human winner\")\n",
    "        break\n"
   ]
  },
  {
   "cell_type": "markdown",
   "metadata": {},
   "source": [
    "###### "
   ]
  },
  {
   "cell_type": "code",
   "execution_count": null,
   "metadata": {},
   "outputs": [],
   "source": []
  }
 ],
 "metadata": {
  "kernelspec": {
   "display_name": "Python 3",
   "language": "python",
   "name": "python3"
  },
  "language_info": {
   "codemirror_mode": {
    "name": "ipython",
    "version": 3
   },
   "file_extension": ".py",
   "mimetype": "text/x-python",
   "name": "python",
   "nbconvert_exporter": "python",
   "pygments_lexer": "ipython3",
   "version": "3.6.9"
  }
 },
 "nbformat": 4,
 "nbformat_minor": 2
}
